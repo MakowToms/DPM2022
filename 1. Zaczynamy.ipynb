{
 "cells": [
  {
   "cell_type": "markdown",
   "id": "5e66e350",
   "metadata": {
    "pycharm": {
     "name": "#%% md\n"
    }
   },
   "source": [
    "# Witaj w jupyter-notebook. \n",
    "Jest to strona, która działa na Twoim komputerze. Zacznijmy od podstaw.\n",
    "Naciśnij shift+enter, by przejść do następnej komórki."
   ]
  },
  {
   "cell_type": "code",
   "execution_count": null,
   "id": "51fd88b5",
   "metadata": {
    "pycharm": {
     "name": "#%%\n"
    }
   },
   "outputs": [],
   "source": [
    "print(\"Witaj przybyszu. To ja komputer. Przychodzę, by przejąć kontrolę nad światem. HAHAHA!\")"
   ]
  },
  {
   "cell_type": "markdown",
   "id": "439702be",
   "metadata": {
    "pycharm": {
     "name": "#%% md\n"
    }
   },
   "source": [
    "Jak widzisz komputer napisał podany tekst. W tym celu został wykorzystany print(\"\"). Normalnie w Pythonie musimy korzystać z print, by wyświetlić coś na ekranie. Jednak jupyter-notebook zawsze wypisuje ostatni tekst, zatem możemy podać tekst w cudzysłowie."
   ]
  },
  {
   "cell_type": "code",
   "execution_count": null,
   "id": "442f9a01",
   "metadata": {
    "pycharm": {
     "name": "#%%\n"
    }
   },
   "outputs": [],
   "source": [
    "\"Witaj przybyszu. To ja komputer. Przychodzę, by przejąć kontrolę nad światem. HAHAHA!\""
   ]
  },
  {
   "cell_type": "markdown",
   "id": "fdad0117",
   "metadata": {
    "pycharm": {
     "name": "#%% md\n"
    }
   },
   "source": [
    "Cudzysłów jest akurat ważny... Brak kończy się błędem (tutaj SyntaxError: invalid syntax)."
   ]
  },
  {
   "cell_type": "code",
   "execution_count": null,
   "id": "18df68ce",
   "metadata": {
    "pycharm": {
     "name": "#%%\n"
    }
   },
   "outputs": [],
   "source": [
    "Witaj przybyszu. To ja komputer. Przychodzę, by przejąć kontrolę nad światem. HAHAHA!"
   ]
  },
  {
   "cell_type": "markdown",
   "id": "d3cab45c",
   "metadata": {
    "pycharm": {
     "name": "#%% md\n"
    }
   },
   "source": [
    "jupyter-notebook zawsze wypisuje tylko ostatni tekst w komórce."
   ]
  },
  {
   "cell_type": "code",
   "execution_count": null,
   "id": "81bf3ac7",
   "metadata": {
    "pycharm": {
     "name": "#%%\n"
    }
   },
   "outputs": [],
   "source": [
    "\"Pierwsza linjka.\"\n",
    "\"Druga linijka. Gdzie się podziała pierwsza?\""
   ]
  },
  {
   "cell_type": "markdown",
   "id": "bf483395",
   "metadata": {
    "pycharm": {
     "name": "#%% md\n"
    }
   },
   "source": [
    "Co zrobić, by wypisać obie linijki?"
   ]
  },
  {
   "cell_type": "code",
   "execution_count": null,
   "id": "191d6696",
   "metadata": {
    "pycharm": {
     "name": "#%%\n"
    }
   },
   "outputs": [],
   "source": [
    "\"Pierwsza linjka.\"\n",
    "\"Druga linijka. Gdzie się podziała pierwsza?\""
   ]
  },
  {
   "cell_type": "markdown",
   "id": "08012775",
   "metadata": {
    "pycharm": {
     "name": "#%% md\n"
    }
   },
   "source": [
    "Wprowadźmy jeszcze komentarze. Gdy linijka zaczyna się od #, wtedy jest ignorowana. Zatem ten znaczek służy do komentowania kodu."
   ]
  },
  {
   "cell_type": "code",
   "execution_count": null,
   "id": "eac232d5",
   "metadata": {
    "pycharm": {
     "name": "#%%\n"
    }
   },
   "outputs": [],
   "source": [
    "# komentarz - nic nie powinno się pojawić"
   ]
  },
  {
   "cell_type": "markdown",
   "id": "63f265f3",
   "metadata": {
    "pycharm": {
     "name": "#%% md\n"
    }
   },
   "source": [
    "## Pudełka (zmienne)\n",
    "W tym momencie poznaliżmy już napisy. To jest to coś w cudzysłowie. Poznajmy jeszcze pudełeczka do przechowywania rzeczy."
   ]
  },
  {
   "cell_type": "code",
   "execution_count": null,
   "id": "27ca6150",
   "metadata": {
    "pycharm": {
     "name": "#%%\n"
    }
   },
   "outputs": [],
   "source": [
    "pierwsze_pudelko = \"Napis\""
   ]
  },
  {
   "cell_type": "code",
   "execution_count": null,
   "id": "a6f79c16",
   "metadata": {
    "pycharm": {
     "name": "#%%\n"
    }
   },
   "outputs": [],
   "source": [
    "pierwsze_pudelko"
   ]
  },
  {
   "cell_type": "markdown",
   "id": "2d2923e3",
   "metadata": {
    "pycharm": {
     "name": "#%% md\n"
    }
   },
   "source": [
    "Co się właściwie stało? Do pudełka o nazwie pierwsze_pudelko wrzuciliśmy napis. Następnie odczytaliśmy co znajduje się w pierwszym pudełku. Pudełka mogą przechowywać cokolwiek."
   ]
  },
  {
   "cell_type": "code",
   "execution_count": null,
   "id": "40ddcc11",
   "metadata": {
    "pycharm": {
     "name": "#%%\n"
    }
   },
   "outputs": [],
   "source": [
    "Pierwsze_pudelko"
   ]
  },
  {
   "cell_type": "markdown",
   "id": "6e8e5263",
   "metadata": {
    "pycharm": {
     "name": "#%% md\n"
    }
   },
   "source": [
    "Jak widzisz nazwy pudełek trzeba podawać dokładnie tak jak zostały nazwane pierwszy raz. Nawet zmiana literki na dużą powoduje błąd."
   ]
  },
  {
   "cell_type": "code",
   "execution_count": null,
   "id": "65dfd8fb",
   "metadata": {
    "pycharm": {
     "name": "#%%\n"
    }
   },
   "outputs": [],
   "source": [
    "liczbowe_pudelko = 6"
   ]
  },
  {
   "cell_type": "code",
   "execution_count": null,
   "id": "b6de5ec5",
   "metadata": {
    "pycharm": {
     "name": "#%%\n"
    }
   },
   "outputs": [],
   "source": [
    "liczbowe_pudelko"
   ]
  },
  {
   "cell_type": "code",
   "execution_count": null,
   "id": "5d27f182",
   "metadata": {
    "pycharm": {
     "name": "#%%\n"
    }
   },
   "outputs": [],
   "source": [
    "liczbowe_pudelko * 2"
   ]
  },
  {
   "cell_type": "code",
   "execution_count": null,
   "id": "eff95d49",
   "metadata": {
    "pycharm": {
     "name": "#%%\n"
    }
   },
   "outputs": [],
   "source": [
    "# podnosimy do kwadratu\n",
    "liczbowe_pudelko ** 2"
   ]
  },
  {
   "cell_type": "code",
   "execution_count": null,
   "id": "6598b46c",
   "metadata": {
    "pycharm": {
     "name": "#%%\n"
    }
   },
   "outputs": [],
   "source": [
    "liczbowe_pudelko ** liczbowe_pudelko"
   ]
  },
  {
   "cell_type": "markdown",
   "id": "e470522d",
   "metadata": {
    "pycharm": {
     "name": "#%% md\n"
    }
   },
   "source": [
    "Powyżej użyliśmy pudełka z liczbą i wykonaliśmy na nim kilka operacji. Możesz wykonać poniżej jakąś operację na liczbowym pudełku."
   ]
  },
  {
   "cell_type": "code",
   "execution_count": null,
   "id": "8c3c160a",
   "metadata": {
    "pycharm": {
     "name": "#%%\n"
    }
   },
   "outputs": [],
   "source": []
  },
  {
   "cell_type": "markdown",
   "id": "1dfc138c",
   "metadata": {
    "pycharm": {
     "name": "#%% md\n"
    }
   },
   "source": [
    "PS: Pudełka w programowaniu nazywają się zmienne i ich zawartość może się zmieniać. Jednak my możemy mówić o pudełkach ze względu na rolę przechowywania czegoś."
   ]
  },
  {
   "cell_type": "code",
   "execution_count": null,
   "id": "3ce4e328",
   "metadata": {
    "pycharm": {
     "name": "#%%\n"
    }
   },
   "outputs": [],
   "source": [
    "liczbowe_pudelko = 7"
   ]
  },
  {
   "cell_type": "code",
   "execution_count": null,
   "id": "85a86d14",
   "metadata": {
    "pycharm": {
     "name": "#%%\n"
    }
   },
   "outputs": [],
   "source": [
    "# zawartość zmieniła się\n",
    "liczbowe_pudelko"
   ]
  },
  {
   "cell_type": "code",
   "execution_count": null,
   "id": "02f5bce4",
   "metadata": {
    "pycharm": {
     "name": "#%%\n"
    }
   },
   "outputs": [],
   "source": [
    "# możemy pomnożyć zawartość pudełka przez 2 i przechować nową wartość\n",
    "liczbowe_pudelko = liczbowe_pudelko * 2"
   ]
  },
  {
   "cell_type": "code",
   "execution_count": null,
   "id": "72d83f8d",
   "metadata": {
    "pycharm": {
     "name": "#%%\n"
    }
   },
   "outputs": [],
   "source": [
    "liczbowe_pudelko"
   ]
  },
  {
   "cell_type": "markdown",
   "id": "7fd1035e",
   "metadata": {
    "pycharm": {
     "name": "#%% md\n"
    }
   },
   "source": [
    "## Funkcje (inne pudełka)\n",
    "Kolejnym typem pudełka są funkcje. Tworzymy je w inny sposób."
   ]
  },
  {
   "cell_type": "code",
   "execution_count": null,
   "id": "6ed706c0",
   "metadata": {
    "pycharm": {
     "name": "#%%\n"
    }
   },
   "outputs": [],
   "source": [
    "# def - rozpoczyna definicję funkcji\n",
    "# potem jest nazwa funkcji dodaj_dwa - nazwa funkcji jest pudełkiem\n",
    "# w nawiasie podajemy to co wchodzi to funkcji (jakaś liczba)\n",
    "def dodaj_dwa(to_co_wchodzi):\n",
    "    # wewnątrz funkcji możemy obliczyć zawartość pudełka to_co_wychodzi za pomocą tego co wchodzi\n",
    "    to_co_wychodzi = to_co_wchodzi + 2\n",
    "    # ostatecznie zwracamy to_co_wychodzi za pomocą słowa return\n",
    "    return to_co_wychodzi"
   ]
  },
  {
   "cell_type": "code",
   "execution_count": null,
   "id": "88032f11",
   "metadata": {
    "pycharm": {
     "name": "#%%\n"
    }
   },
   "outputs": [],
   "source": [
    "# żeby skorzystać z pudełka, które jest funkcją piszemy nazwę pudełka\n",
    "# następnie w nawiasie piszemy liczbę, która do niego wchodzi\n",
    "dodaj_dwa(4)"
   ]
  },
  {
   "cell_type": "code",
   "execution_count": null,
   "id": "2ae949fc",
   "metadata": {
    "pycharm": {
     "name": "#%%\n"
    }
   },
   "outputs": [],
   "source": [
    "# możemy też podać nazwę pudełka, które podajemy do funkcji\n",
    "dodaj_dwa(to_co_wchodzi=15)"
   ]
  },
  {
   "cell_type": "code",
   "execution_count": null,
   "id": "53d87cd8",
   "metadata": {
    "pycharm": {
     "name": "#%%\n"
    }
   },
   "outputs": [],
   "source": [
    "# na wejściu można chcieć więcej liczb\n",
    "def dodaj_liczby(liczba1, liczba2):\n",
    "    to_co_wychodzi = liczba1 + liczba2\n",
    "    return to_co_wychodzi"
   ]
  },
  {
   "cell_type": "code",
   "execution_count": null,
   "id": "47b3f944",
   "metadata": {
    "pycharm": {
     "name": "#%%\n"
    }
   },
   "outputs": [],
   "source": [
    "# jeśli funkcja (pudełko) wymaga wielu liczb na wejściu to musmiy podać tyle ile ich wymaga\n",
    "dodaj_liczby(2, 7)"
   ]
  },
  {
   "cell_type": "code",
   "execution_count": null,
   "id": "88d6f6a2",
   "metadata": {
    "pycharm": {
     "name": "#%%\n"
    },
    "scrolled": false
   },
   "outputs": [],
   "source": [
    "# tu będzie błąd\n",
    "dodaj_liczby(2)"
   ]
  },
  {
   "cell_type": "code",
   "execution_count": null,
   "outputs": [],
   "source": [
    "# domyślne wartości funkcji\n",
    "def odejmij_liczby(liczba1, liczba2=3):\n",
    "    to_co_wychodzi = liczba1 - liczba2\n",
    "    return to_co_wychodzi"
   ],
   "metadata": {
    "collapsed": false,
    "pycharm": {
     "name": "#%%\n"
    }
   }
  },
  {
   "cell_type": "code",
   "execution_count": null,
   "outputs": [],
   "source": [
    "odejmij_liczby(7, 2)"
   ],
   "metadata": {
    "collapsed": false,
    "pycharm": {
     "name": "#%%\n"
    }
   }
  },
  {
   "cell_type": "code",
   "execution_count": null,
   "outputs": [],
   "source": [
    "odejmij_liczby(4)"
   ],
   "metadata": {
    "collapsed": false,
    "pycharm": {
     "name": "#%%\n"
    }
   }
  },
  {
   "cell_type": "code",
   "execution_count": null,
   "outputs": [],
   "source": [
    "odejmij_liczby(liczba1=3)"
   ],
   "metadata": {
    "collapsed": false,
    "pycharm": {
     "name": "#%%\n"
    }
   }
  },
  {
   "cell_type": "code",
   "execution_count": null,
   "outputs": [],
   "source": [
    "odejmij_liczby(liczba2=5)"
   ],
   "metadata": {
    "collapsed": false,
    "pycharm": {
     "name": "#%%\n"
    }
   }
  },
  {
   "cell_type": "code",
   "execution_count": null,
   "outputs": [],
   "source": [
    "odejmij_liczby(liczba2=5, liczba1=2)"
   ],
   "metadata": {
    "collapsed": false,
    "pycharm": {
     "name": "#%%\n"
    }
   }
  },
  {
   "cell_type": "code",
   "execution_count": null,
   "outputs": [],
   "source": [
    "odejmij_liczby(liczba2=5, 2)"
   ],
   "metadata": {
    "collapsed": false,
    "pycharm": {
     "name": "#%%\n"
    }
   }
  },
  {
   "cell_type": "markdown",
   "source": [
    "## Warunki\n",
    "Czasami musimy sprawdzić, czy liczba, która jest podana do funkcji jest większa bądź mniejsza niż inna liczba. Na przykład licząc pierwiastek musimy sprawdzić, czy liczba jest większa od 0. Jak to zrobić? W tym celu korzystamy z if"
   ],
   "metadata": {
    "collapsed": false,
    "pycharm": {
     "name": "#%% md\n"
    }
   }
  },
  {
   "cell_type": "code",
   "execution_count": null,
   "id": "4a61afab",
   "metadata": {
    "pycharm": {
     "name": "#%%\n"
    }
   },
   "outputs": [],
   "source": [
    "odejmij_liczby(7, 2)"
   ]
  },
  {
   "cell_type": "code",
   "execution_count": null,
   "id": "df3239ee",
   "metadata": {
    "pycharm": {
     "name": "#%%\n"
    }
   },
   "outputs": [],
   "source": [
    "odejmij_liczby(4)"
   ]
  },
  {
   "cell_type": "code",
   "execution_count": null,
   "id": "68498a42",
   "metadata": {
    "pycharm": {
     "name": "#%%\n"
    }
   },
   "outputs": [],
   "source": [
    "odejmij_liczby(liczba1=3)"
   ]
  },
  {
   "cell_type": "code",
   "execution_count": null,
   "id": "5526c53c",
   "metadata": {
    "pycharm": {
     "name": "#%%\n"
    }
   },
   "outputs": [],
   "source": [
    "odejmij_liczby(liczba2=5)"
   ]
  },
  {
   "cell_type": "code",
   "execution_count": null,
   "id": "27533c11",
   "metadata": {
    "pycharm": {
     "name": "#%%\n"
    }
   },
   "outputs": [],
   "source": [
    "odejmij_liczby(liczba2=5, liczba1=2)"
   ]
  },
  {
   "cell_type": "code",
   "execution_count": null,
   "id": "c12acc52",
   "metadata": {
    "pycharm": {
     "name": "#%%\n"
    }
   },
   "outputs": [],
   "source": [
    "odejmij_liczby(liczba2=5, 2)"
   ]
  },
  {
   "cell_type": "markdown",
   "id": "c22ca607",
   "metadata": {
    "pycharm": {
     "name": "#%% md\n"
    }
   },
   "source": [
    "## Warunki\n",
    "Czasami musimy sprawdzić, czy liczba, która jest podana do funkcji jest większa bądź mniejsza niż inna liczba. Na przykład licząc pierwiastek musimy sprawdzić, czy liczba jest większa od 0. Jak to zrobić? W tym celu korzystamy z if"
   ]
  },
  {
   "cell_type": "code",
   "execution_count": null,
   "id": "32e164a4",
   "metadata": {
    "pycharm": {
     "name": "#%%\n"
    }
   },
   "outputs": [],
   "source": [
    "liczba = 1\n",
    "if liczba > 0:\n",
    "    print(\"Liczba większa od 0\")"
   ]
  },
  {
   "cell_type": "code",
   "execution_count": null,
   "id": "8e2cf965",
   "metadata": {
    "pycharm": {
     "name": "#%%\n"
    }
   },
   "outputs": [],
   "source": [
    "liczba = -1\n",
    "if liczba > 0:\n",
    "    print(\"Liczba większa od 0\")"
   ]
  },
  {
   "cell_type": "markdown",
   "id": "adeceb60",
   "metadata": {
    "pycharm": {
     "name": "#%% md\n"
    }
   },
   "source": [
    "Kontynuując pisanie funkcji - można robić też takie, które korzystają z samych siebie."
   ]
  },
  {
   "cell_type": "code",
   "execution_count": null,
   "id": "257ea910",
   "metadata": {
    "pycharm": {
     "name": "#%%\n"
    }
   },
   "outputs": [],
   "source": [
    "def silnia(liczba):\n",
    "    # funkcja może korzystać z samej siebie z innym argumentem\n",
    "    silnia_liczby = liczba * silnia(liczba-1)\n",
    "    return silnia_liczby\n",
    "silnia(5)"
   ]
  },
  {
   "cell_type": "markdown",
   "id": "ec589e66",
   "metadata": {
    "pycharm": {
     "name": "#%% md\n"
    }
   },
   "source": [
    "Coś nie działa... Czemu? Spróbujmy wypisywać liczby."
   ]
  },
  {
   "cell_type": "code",
   "execution_count": null,
   "id": "2a9d384b",
   "metadata": {
    "pycharm": {
     "name": "#%%\n"
    }
   },
   "outputs": [],
   "source": [
    "def silnia(liczba):\n",
    "    print(liczba)\n",
    "    # funkcja może korzystać z samej siebie z innym argumentem\n",
    "    silnia_liczby = liczba * silnia(liczba-1)\n",
    "    return silnia_liczby\n",
    "silnia(5)"
   ]
  },
  {
   "cell_type": "markdown",
   "id": "dfcce636",
   "metadata": {
    "pycharm": {
     "name": "#%% md\n"
    }
   },
   "source": [
    "Zatem dlaczego nie działa? Naprawmy to."
   ]
  },
  {
   "cell_type": "code",
   "execution_count": null,
   "id": "5b4fddf6",
   "metadata": {
    "pycharm": {
     "name": "#%%\n"
    }
   },
   "outputs": [],
   "source": [
    "def silnia(liczba):\n",
    "    if liczba <= 1:\n",
    "        return 1\n",
    "    # funkcja może korzystać z samej siebie z innym argumentem\n",
    "    silnia_liczby = liczba * silnia(liczba-1)\n",
    "    return silnia_liczby\n",
    "silnia(5)"
   ]
  },
  {
   "cell_type": "code",
   "execution_count": null,
   "id": "8139f50c",
   "metadata": {
    "pycharm": {
     "name": "#%%\n"
    }
   },
   "outputs": [],
   "source": [
    "silnia(3)"
   ]
  },
  {
   "cell_type": "markdown",
   "id": "f73cbbc2",
   "metadata": {
    "pycharm": {
     "name": "#%% md\n"
    }
   },
   "source": [
    "### Czas na quiz!\n",
    "Wejdź na stronę: https://www.menti.com/1wbocc421r (po 10)\n",
    "lub: https://www.menti.com/al3ybv9mffhn (po 12)\n",
    "i postępuj zgodnie z instrukcjami."
   ]
  },
  {
   "cell_type": "code",
   "execution_count": null,
   "id": "cc5e73cf",
   "metadata": {
    "pycharm": {
     "name": "#%%\n"
    }
   },
   "outputs": [],
   "source": []
  }
 ],
 "metadata": {
  "kernelspec": {
   "display_name": "Python 3 (ipykernel)",
   "language": "python",
   "name": "python3"
  },
  "language_info": {
   "codemirror_mode": {
    "name": "ipython",
    "version": 3
   },
   "file_extension": ".py",
   "mimetype": "text/x-python",
   "name": "python",
   "nbconvert_exporter": "python",
   "pygments_lexer": "ipython3",
   "version": "3.8.10"
  }
 },
 "nbformat": 4,
 "nbformat_minor": 5
}