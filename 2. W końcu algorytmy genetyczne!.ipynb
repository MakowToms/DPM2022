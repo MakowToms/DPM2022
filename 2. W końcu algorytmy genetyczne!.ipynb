{
 "cells": [
  {
   "cell_type": "code",
   "execution_count": null,
   "id": "34a8055b",
   "metadata": {
    "pycharm": {
     "name": "#%%\n"
    }
   },
   "outputs": [],
   "source": [
    "from copy import copy\n",
    "from random import randint, random\n",
    "\n",
    "import numpy as np\n",
    "from numpy import mean\n",
    "\n",
    "UKRYTE_HASLO = \"4729210302\"\n",
    "L_CHROMOSOMOW = 10\n"
   ]
  },
  {
   "cell_type": "markdown",
   "id": "14525927",
   "metadata": {
    "pycharm": {
     "name": "#%% md\n"
    }
   },
   "source": [
    "# Zadanie\n",
    "Chcemy uzyskac haslo do systemu. Wiemy ze haslo sklada sie z 10 cyfr, ale jakie to cyfry?\n",
    "Mozemy sprobowac znalezc to haslo w sposob losowy, np. wypisujac kolejno 0123456789, 0123456790, ...\n",
    "Ale mozemy wykorzystac tez algorytmy genetyczne.\n",
    "\n",
    "### Algorytm genetyczny\n",
    "Algorytm genetyczny opiera sie na ulepszaniu populacji. Populacja sklada sie z osobnikow, a osobnik ma swoj genom.\n",
    "W kazdym zastosowaniu nalezy zdefiniowac wiele rzeczy. Zacznijmy po kolei."
   ]
  },
  {
   "cell_type": "markdown",
   "id": "7e0b2c81",
   "metadata": {
    "pycharm": {
     "name": "#%% md\n"
    }
   },
   "source": [
    "## Populacja\n",
    "Niech pojedynczym osobnikiem bedzie potencjalne haslo. Zatem jeden osobnik to na przyklad 0123456789.\n",
    "Kazdy osobnik sklada sie z genow. Tutaj geny to sa cyfry. Zatem kazdy osobnik ma 10 genow, ktore sa cyframi.\n",
    "Czy kolejnosc genow ma znaczenie?\n",
    "Tutaj ma, przeciez osobnicy zlozeni dokladnie z tych samych genow 0123456789 i 0123456798 reprezentuja rozne liczby.\n",
    "Ale nie zawsze kolejnosc musi miec znaczenie.\n",
    "\n",
    "Podczas inicjalizacji populacji powinnismy stworzyc kilka/kilkanascie/dziesiat osobnikow o roznym genomie.\n",
    "Zacznijmy od 6 poczatkowych losowych osobnikow."
   ]
  },
  {
   "cell_type": "code",
   "execution_count": null,
   "id": "a54ca4c5",
   "metadata": {
    "pycharm": {
     "name": "#%%\n"
    }
   },
   "outputs": [],
   "source": [
    "# tworzenie jednego osobnika (jednego hasla)\n",
    "def tworz_losowego_osobnika(l_chromosomow=10):\n",
    "    if l_chromosomow < 1:\n",
    "        print(\"Liczba chromosomow powinna byc wieksza od 0.\")\n",
    "    osobnik = \"\"\n",
    "    for chromosom in range(l_chromosomow):\n",
    "        osobnik = osobnik + str(randint(0, 9))\n",
    "    return osobnik\n",
    "\n",
    "osobnik = tworz_losowego_osobnika(2)\n",
    "print(osobnik)"
   ]
  },
  {
   "cell_type": "code",
   "execution_count": null,
   "id": "a1c72708",
   "metadata": {
    "pycharm": {
     "name": "#%%\n"
    }
   },
   "outputs": [],
   "source": [
    "# tworzenie calej populacji hasel (wiele osobnikow)\n",
    "def tworz_populacje(wielkosc=10, l_chromosomow=10):\n",
    "    return [\n",
    "        tworz_losowego_osobnika(l_chromosomow) for i in range(wielkosc)\n",
    "    ]\n",
    "\n",
    "\n",
    "populacja = tworz_populacje(wielkosc=6, l_chromosomow=2)\n",
    "print(populacja)"
   ]
  },
  {
   "cell_type": "markdown",
   "id": "635b21fd",
   "metadata": {
    "pycharm": {
     "name": "#%% md\n"
    }
   },
   "source": [
    "## Selekcja\n",
    "Mamy jakies losowe hasla. Ale po co nam losowe hasla? Musimy umiec oceniac ich przydatnosc.\n",
    "Tak sie sklada, ze system podczas logowania mowi nam ile cyfr hasla jest poprawnych.\n"
   ]
  },
  {
   "cell_type": "code",
   "execution_count": null,
   "id": "cc214965",
   "metadata": {
    "pycharm": {
     "name": "#%%\n"
    }
   },
   "outputs": [],
   "source": [
    "# funkcja, ktora podaje ile poprawnych cyfr ma haslo przedstawione przez danego osobnika\n",
    "def podaj_liczbe_poprawnych_liter(osobnik):\n",
    "    wynik = 0\n",
    "    for chromosom_osobnika, poprawny_chromosom in zip(osobnik, UKRYTE_HASLO):\n",
    "        if chromosom_osobnika == poprawny_chromosom:\n",
    "            wynik = wynik + 1\n",
    "    return wynik\n",
    "\n",
    "print(\"Liczba poprawnych cyfr 23: \", podaj_liczbe_poprawnych_liter(\"23\"))\n",
    "print(\"Liczba poprawnych cyfr 77: \", podaj_liczbe_poprawnych_liter(\"77\"))\n",
    "print(\"Liczba poprawnych cyfr 47: \", podaj_liczbe_poprawnych_liter(\"47\"))\n",
    "print(\"Liczba poprawnych cyfr 74: \", podaj_liczbe_poprawnych_liter(\"74\"))"
   ]
  },
  {
   "cell_type": "code",
   "execution_count": null,
   "id": "44c344ae",
   "metadata": {
    "pycharm": {
     "name": "#%%\n"
    }
   },
   "outputs": [],
   "source": [
    "# robimy selekcje z calej populacji - wybieramy osobnikow blizszych poprawnemu haslu\n",
    "def selekcja_populacji(populacja, wielkosc_po_selekcji=10):\n",
    "    wyniki = np.array([podaj_liczbe_poprawnych_liter(osobnik) for osobnik in populacja])\n",
    "    indeksy_wynikow = np.argsort(wyniki)[::-1]\n",
    "    return list(np.array(populacja)[indeksy_wynikow[:wielkosc_po_selekcji]])\n",
    "\n",
    "\n",
    "populacja_po_selekcji = selekcja_populacji(populacja, 3)\n",
    "# poprawne haslo zaczyna sie 47 - mozemy zobaczyc, \n",
    "# ze pierwsze kilka hasel ma albo 4 na pierwszym miejscu albo 7 na drugim miejscu\n",
    "print(populacja_po_selekcji)"
   ]
  },
  {
   "cell_type": "markdown",
   "id": "138c47bb",
   "metadata": {
    "pycharm": {
     "name": "#%% md\n"
    }
   },
   "source": [
    "## Mutacja\n",
    "W jakis sposob powinnismy zaczac sie zblizac do poprawnego hasla. Mozemy to robic poprzez zmiany w obecnym hasle.\n",
    "Dlaczego to moze dzialac? Poniewaz robimy selekcje i wybieramy te hasla ktore sa blizej poprawnego, zatem edytujemy hasla blizsze poprawnemu."
   ]
  },
  {
   "cell_type": "code",
   "execution_count": null,
   "id": "95f4b497",
   "metadata": {
    "pycharm": {
     "name": "#%%\n"
    }
   },
   "outputs": [],
   "source": [
    "# mutowanie jednego osobnika\n",
    "def mutacja_osobnika(osobnik):\n",
    "    osobnik = [gen for gen in osobnik]\n",
    "    osobnik[randint(0, len(osobnik)-1)] = str(randint(0, 9))\n",
    "    return ''.join(osobnik)\n",
    "\n",
    "print(\"Zmutowany osobnik 41: \", mutacja_osobnika('41'))\n",
    "print(\"Zmutowany osobnik 41: \", mutacja_osobnika('41'))\n",
    "print(\"Zmutowany osobnik 41: \", mutacja_osobnika('41'))"
   ]
  },
  {
   "cell_type": "code",
   "execution_count": null,
   "id": "ad936556",
   "metadata": {
    "pycharm": {
     "name": "#%%\n"
    }
   },
   "outputs": [],
   "source": [
    "# mutowanie calej populacji\n",
    "def mutacja_populacji(populacja, pstwo_mutacji=0.67):\n",
    "    zmutowani_osobnicy = [\n",
    "        mutacja_osobnika(osobnik) for osobnik in populacja if random() < pstwo_mutacji\n",
    "    ]\n",
    "    return populacja + zmutowani_osobnicy\n",
    "\n",
    "\n",
    "# Po zmutowaniu populacja jest wieksza o okolo 2 osobnikow. Dlaczego? Który osobnik powstal z ktorego?\n",
    "zmutowana_populacja = mutacja_populacji(populacja_po_selekcji)\n",
    "print(zmutowana_populacja)\n",
    "print(\"Stara populacja\", zmutowana_populacja[:3])\n",
    "print(\"Nowa populacja\", zmutowana_populacja[3:])"
   ]
  },
  {
   "cell_type": "markdown",
   "id": "c4c4360a",
   "metadata": {
    "pycharm": {
     "name": "#%% md\n"
    }
   },
   "source": [
    "## Pierwsze sprawdzenie\n",
    "Sprawdzmy jak dziala nasz algorytm w tym momencie.\n",
    "Uruchomimy go na 100 generacjach."
   ]
  },
  {
   "cell_type": "code",
   "execution_count": null,
   "id": "704bcb47",
   "metadata": {
    "pycharm": {
     "name": "#%%\n"
    },
    "scrolled": true
   },
   "outputs": [],
   "source": [
    "L_GENERACJI = 100\n",
    "PSTWO_MUTACJI = 0.4\n",
    "\n",
    "populacja = tworz_populacje(wielkosc=20, l_chromosomow=L_CHROMOSOMOW)\n",
    "for generacja in range(L_GENERACJI):\n",
    "    populacja = selekcja_populacji(populacja, 10)\n",
    "    print(f\"Generacja {generacja+1}, najlepszy wynik {podaj_liczbe_poprawnych_liter(populacja[0])} dla hasla {populacja[0]}.\")\n",
    "    populacja = mutacja_populacji(populacja, PSTWO_MUTACJI)\n"
   ]
  },
  {
   "cell_type": "markdown",
   "id": "b6cd964b",
   "metadata": {
    "pycharm": {
     "name": "#%% md\n"
    }
   },
   "source": [
    "### WOW! Udalo sie znalezc haslo! Ile prób zgadniecia hasla mielismy? Jak to obliczyc?\n"
   ]
  },
  {
   "cell_type": "markdown",
   "id": "f6244ccc",
   "metadata": {
    "pycharm": {
     "name": "#%% md\n"
    }
   },
   "source": [
    "## Krzyzowanie\n",
    "Ok, ale mamy jeszcze jednego agenta w kieszeni. Otoz w biologii osobniki sie rozmnazaja.\n",
    "Podczas rozmnazania potomkowie otrzymuja geny od obu rodzicow, czyli sa usrednieniem rodzicow.\n",
    "Moze sie okazac, ze od obu rodzicow dostana geny bardziej przydatne lub od obu mniej przydatne albo mieszanke.\n",
    "U nas rodzicami sa hasla i potomkami tez. Jak zrobic krzyzowanie 2 hasel?\n",
    "Wezmy pierwsza polowe hasla od pierwszego rodzica, a druga polowe od drugiego rodzica."
   ]
  },
  {
   "cell_type": "code",
   "execution_count": null,
   "id": "455926c5",
   "metadata": {
    "pycharm": {
     "name": "#%%\n"
    }
   },
   "outputs": [],
   "source": [
    "# krzyzowanie 2 rodzicow, by otrzymac nowego osobnika\n",
    "def krzyzuj_rodzicow(rodzic1, rodzic2):\n",
    "    indeks = int(len(rodzic1)/2)\n",
    "    return rodzic1[:indeks] + rodzic2[indeks:]\n",
    "\n",
    "rodzic1 = populacja_po_selekcji[0]\n",
    "rodzic2 = populacja_po_selekcji[1]\n",
    "print(\"Rodzic 1\", rodzic1)\n",
    "print(\"Rodzic 2\", rodzic2)\n",
    "\n",
    "krzyzowanie1 = krzyzuj_rodzicow(rodzic1, rodzic2)\n",
    "krzyzowanie2 = krzyzuj_rodzicow(rodzic2, rodzic1)\n",
    "print(\"Rodzic 1 skrzyzowany z rodzicem 2\", krzyzowanie1)\n",
    "print(\"Rodzic 2 skrzyzowany z rodzicem 1\", krzyzowanie2)"
   ]
  },
  {
   "cell_type": "code",
   "execution_count": null,
   "id": "793a0a76",
   "metadata": {
    "pycharm": {
     "name": "#%%\n"
    }
   },
   "outputs": [],
   "source": [
    "def _szukaj_drugiego_rodzica(populacja, i):\n",
    "    losowy_index = randint(0, len(populacja) - 2)\n",
    "    if losowy_index >= i:\n",
    "        losowy_index += 1\n",
    "    return populacja[losowy_index]\n",
    "\n",
    "# krzyzowanie populacji\n",
    "def krzyzowanie_populacji(populacja, pstwo_krzyzowania=0.67):\n",
    "    krzyzowani_osobnicy = [\n",
    "        krzyzuj_rodzicow(osobnik, _szukaj_drugiego_rodzica(populacja, i))\n",
    "        for i, osobnik in enumerate(populacja)\n",
    "        if random() < pstwo_krzyzowania\n",
    "    ]\n",
    "    return populacja + krzyzowani_osobnicy\n",
    "\n",
    "skrzyzowana_populacja = krzyzowanie_populacji(populacja_po_selekcji)\n",
    "print(skrzyzowana_populacja)\n",
    "print(\"Stara populacja\", skrzyzowana_populacja[:3])\n",
    "print(\"Nowa populacja\", skrzyzowana_populacja[3:])"
   ]
  },
  {
   "cell_type": "markdown",
   "id": "e1dad908",
   "metadata": {
    "pycharm": {
     "name": "#%% md\n"
    }
   },
   "source": [
    "## Druga proba\n",
    "Sprawdzmy jak teraz dziala nasz algorytm.\n",
    "Uruchomimy go na 100 generacjach, ale z krzyzowaniem."
   ]
  },
  {
   "cell_type": "code",
   "execution_count": null,
   "id": "643f36c8",
   "metadata": {
    "pycharm": {
     "name": "#%%\n"
    }
   },
   "outputs": [],
   "source": [
    "LICZBA_PROB = 1000\n",
    "\n",
    "def srednia_liczba_generacji_do_wyniku(pstwo_mutacji, pstwo_krzyzowania):\n",
    "    generacje = []\n",
    "    for proba in range(LICZBA_PROB):\n",
    "        wynik = 0\n",
    "        generacja = 0\n",
    "        populacja = tworz_populacje(wielkosc=20, l_chromosomow=L_CHROMOSOMOW)\n",
    "        while wynik<10:\n",
    "            generacja += 1\n",
    "            populacja = selekcja_populacji(populacja, 10)\n",
    "            wynik = podaj_liczbe_poprawnych_liter(populacja[0])\n",
    "            populacja = mutacja_populacji(populacja, pstwo_mutacji)\n",
    "            populacja = krzyzowanie_populacji(populacja, pstwo_krzyzowania)\n",
    "        generacje.append(generacja)\n",
    "    return mean(generacje)\n"
   ]
  },
  {
   "cell_type": "code",
   "execution_count": null,
   "id": "66d24368",
   "metadata": {
    "pycharm": {
     "name": "#%%\n"
    }
   },
   "outputs": [],
   "source": [
    "l_generacji_mutacja = srednia_liczba_generacji_do_wyniku(pstwo_mutacji=0.4, pstwo_krzyzowania=0)\n",
    "print(f\"Srednia liczba generacji przy samej mutacji {l_generacji_mutacja}.\")\n",
    "\n",
    "l_generacji_mutacja_i_krzyzowanie = srednia_liczba_generacji_do_wyniku(pstwo_mutacji=0.2, pstwo_krzyzowania=0.2)\n",
    "print(f\"Srednia liczba generacji przy mutacji i krzyzowaniu {l_generacji_mutacja_i_krzyzowanie}.\")\n"
   ]
  },
  {
   "cell_type": "markdown",
   "id": "91001819",
   "metadata": {
    "pycharm": {
     "name": "#%% md\n"
    }
   },
   "source": [
    "Okazuje sie ze algorytm zbiegl wolniej. Ile tym razem zostalo utworzonych hasel?\n",
    "Czy potrafisz zmienic cos w tym algorytmie, by dzialal szybciej?\n",
    "Czy mozna jakos zmienic krzyzowanie, mutacje?"
   ]
  },
  {
   "cell_type": "code",
   "execution_count": null,
   "id": "af58bc8a",
   "metadata": {
    "pycharm": {
     "name": "#%%\n"
    }
   },
   "outputs": [],
   "source": [
    "l_generacji_mutacja_i_krzyzowanie = srednia_liczba_generacji_do_wyniku(pstwo_mutacji=0.3, pstwo_krzyzowania=0.1)\n",
    "print(f\"Srednia liczba generacji przy mutacji i krzyzowaniu {l_generacji_mutacja_i_krzyzowanie}.\")\n"
   ]
  },
  {
   "cell_type": "code",
   "execution_count": null,
   "id": "e18549b1",
   "metadata": {
    "pycharm": {
     "name": "#%%\n"
    }
   },
   "outputs": [],
   "source": [
    "l_generacji_mutacja_i_krzyzowanie = srednia_liczba_generacji_do_wyniku(pstwo_mutacji=0.8, pstwo_krzyzowania=0.8)\n",
    "print(f\"Srednia liczba generacji przy mutacji i krzyzowaniu {l_generacji_mutacja_i_krzyzowanie}.\")\n"
   ]
  },
  {
   "cell_type": "code",
   "execution_count": null,
   "id": "43d96c6c",
   "metadata": {
    "pycharm": {
     "name": "#%%\n"
    }
   },
   "outputs": [],
   "source": [
    "l_generacji_mutacja_i_krzyzowanie = srednia_liczba_generacji_do_wyniku(pstwo_mutacji=0.8, pstwo_krzyzowania=0.2)\n",
    "print(f\"Srednia liczba generacji przy mutacji i krzyzowaniu {l_generacji_mutacja_i_krzyzowanie}.\")\n"
   ]
  },
  {
   "cell_type": "code",
   "execution_count": null,
   "id": "9d840227",
   "metadata": {
    "pycharm": {
     "name": "#%%\n"
    }
   },
   "outputs": [],
   "source": []
  }
 ],
 "metadata": {
  "kernelspec": {
   "display_name": "Python 3 (ipykernel)",
   "language": "python",
   "name": "python3"
  },
  "language_info": {
   "codemirror_mode": {
    "name": "ipython",
    "version": 3
   },
   "file_extension": ".py",
   "mimetype": "text/x-python",
   "name": "python",
   "nbconvert_exporter": "python",
   "pygments_lexer": "ipython3",
   "version": "3.8.10"
  }
 },
 "nbformat": 4,
 "nbformat_minor": 5
}
