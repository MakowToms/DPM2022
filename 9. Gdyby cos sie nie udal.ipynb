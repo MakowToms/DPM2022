{
 "cells": [
  {
   "cell_type": "markdown",
   "id": "5adc637b",
   "metadata": {},
   "source": [
    "Gdyby byla taka potrzeba, to tutaj moga pojawic sie jakies pliki: https://drive.google.com/drive/folders/1_u22dMJ9kR74e8WcEJfPH_5A-eIEedEr?usp=sharing"
   ]
  },
  {
   "cell_type": "markdown",
   "id": "bfc7623a",
   "metadata": {},
   "source": [
    "..."
   ]
  }
 ],
 "metadata": {
  "kernelspec": {
   "display_name": "Python 3 (ipykernel)",
   "language": "python",
   "name": "python3"
  },
  "language_info": {
   "codemirror_mode": {
    "name": "ipython",
    "version": 3
   },
   "file_extension": ".py",
   "mimetype": "text/x-python",
   "name": "python",
   "nbconvert_exporter": "python",
   "pygments_lexer": "ipython3",
   "version": "3.8.10"
  }
 },
 "nbformat": 4,
 "nbformat_minor": 5
}
